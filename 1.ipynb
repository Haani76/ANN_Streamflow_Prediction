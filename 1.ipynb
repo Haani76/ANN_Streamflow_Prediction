{
 "cells": [
  {
   "cell_type": "code",
   "execution_count": null,
   "id": "d6ade67d",
   "metadata": {},
   "outputs": [],
   "source": [
    "import pandas as pd\n",
    "import numpy as np\n",
    "from sklearn.preprocessing import MinMaxScaler\n",
    "from sklearn.metrics import r2_score, mean_squared_error, mean_absolute_error\n",
    "from keras.models import Sequential\n",
    "from keras.layers import Dense\n",
    "from keras.optimizers import SGD, RMSprop, Adam, Adagrad, Adadelta\n",
    "from keras.callbacks import EarlyStopping, ModelCheckpoint, CSVLogger\n",
    "import matplotlib.pyplot as plt\n",
    "from datetime import timedelta\n",
    "import seaborn as sns\n",
    "\n",
    "# Load data\n",
    "data = pd.read_excel('discharge.xlsx')\n",
    "\n",
    "# Convert the date column to datetime format\n",
    "data['date'] = pd.to_datetime(data['date'])\n",
    "\n",
    "# Drop the second column (Unnamed: 1) if it exists\n",
    "if 'Unnamed: 1' in data.columns:\n",
    "    data = data.drop(columns=['Unnamed: 1'])\n",
    "\n",
    "# Ensure there are no missing values in the 'q' column\n",
    "data['q'].fillna(method='ffill', inplace=True)\n",
    "\n",
    "# Feature Engineering\n",
    "data['month'] = data['date'].dt.month\n",
    "data['day_of_year'] = data['date'].dt.dayofyear\n",
    "data['is_weekend'] = data['date'].dt.weekday >= 5\n",
    "\n",
    "# Calculate the split date for 80% training and 20% testing\n",
    "total_days = (data['date'].max() - data['date'].min()).days\n",
    "train_days = int(total_days * 0.8)\n",
    "split_date = data['date'].min() + timedelta(days=train_days)\n",
    "\n",
    "# Split the data\n",
    "train_data = data[data['date'] < split_date]\n",
    "test_data = data[data['date'] >= split_date]\n",
    "\n",
    "# Extract input and output variables\n",
    "X_train = train_data[['q', 'month', 'day_of_year', 'is_weekend']].values\n",
    "y_train = train_data['q'].values.reshape(-1, 1)\n",
    "X_test = test_data[['q', 'month', 'day_of_year', 'is_weekend']].values\n",
    "y_test = test_data['q'].values.reshape(-1, 1)"
   ]
  }
 ],
 "metadata": {
  "language_info": {
   "name": "python"
  }
 },
 "nbformat": 4,
 "nbformat_minor": 5
}
